{
  "nbformat": 4,
  "nbformat_minor": 0,
  "metadata": {
    "colab": {
      "provenance": []
    },
    "kernelspec": {
      "name": "python3",
      "display_name": "Python 3"
    },
    "language_info": {
      "name": "python"
    }
  },
  "cells": [
    {
      "cell_type": "markdown",
      "source": [
        "* Using the request library to get the github user details with the github API.\n",
        "* By handling the exceptions and creating a simple function to get the data."
      ],
      "metadata": {
        "id": "IJOCAxMmclr8"
      }
    },
    {
      "cell_type": "code",
      "execution_count": 2,
      "metadata": {
        "colab": {
          "base_uri": "https://localhost:8080/"
        },
        "id": "WFdIHX4Gbsjz",
        "outputId": "664a11e2-d42e-4516-abb0-6799f18c78d7"
      },
      "outputs": [
        {
          "output_type": "stream",
          "name": "stdout",
          "text": [
            "Enter the GitHub username: SrinivasanJayakumar75\n",
            "\n",
            "GitHub User Profile:\n",
            "Username: SrinivasanJayakumar75\n",
            "Name: Srinivasan Jayakumar\n",
            "Bio: Aspiring Data Scientist.\n",
            "Public Repositories: 31\n",
            "Followers: 0\n",
            "Following: 3\n",
            "Avatar URL: https://avatars.githubusercontent.com/u/128364049?v=4\n"
          ]
        }
      ],
      "source": [
        "import requests\n",
        "\n",
        "# Function to fetch GitHub user data from the GitHub API\n",
        "def fetch_github_user_data(username):\n",
        "    base_url = f\"https://api.github.com/users/{username}\"\n",
        "\n",
        "    try:\n",
        "        # Making the API call\n",
        "        response = requests.get(base_url)\n",
        "\n",
        "        # Checking for different response statuses\n",
        "        if response.status_code == 200:\n",
        "            data = response.json()\n",
        "            display_github_user_data(data)\n",
        "        elif response.status_code == 404:\n",
        "            print(f\"Error: User '{username}' not found.\")\n",
        "        else:\n",
        "            print(f\"Error: Unable to fetch data. Status code: {response.status_code}\")\n",
        "\n",
        "    except requests.exceptions.RequestException as e:\n",
        "        # Handling any exceptions that might occur\n",
        "        print(f\"Error: An exception occurred while trying to fetch data: {e}\")\n",
        "\n",
        "# Function to parse and display GitHub user data in a user-friendly format\n",
        "def display_github_user_data(data):\n",
        "    login = data.get('login')\n",
        "    name = data.get('name')\n",
        "    bio = data.get('bio')\n",
        "    public_repos = data.get('public_repos')\n",
        "    followers = data.get('followers')\n",
        "    following = data.get('following')\n",
        "    avatar_url = data.get('avatar_url')\n",
        "\n",
        "    print(f\"\\nGitHub User Profile:\")\n",
        "    print(f\"Username: {login}\")\n",
        "    print(f\"Name: {name if name else 'Not provided'}\")\n",
        "    print(f\"Bio: {bio if bio else 'Not provided'}\")\n",
        "    print(f\"Public Repositories: {public_repos}\")\n",
        "    print(f\"Followers: {followers}\")\n",
        "    print(f\"Following: {following}\")\n",
        "    print(f\"Avatar URL: {avatar_url}\")\n",
        "\n",
        "if __name__ == \"__main__\":\n",
        "    # Prompt user for input\n",
        "    username = input(\"Enter the GitHub username: \")\n",
        "\n",
        "    # Fetch and display the GitHub user data\n",
        "    fetch_github_user_data(username)\n"
      ]
    },
    {
      "cell_type": "markdown",
      "source": [
        "SUMMARY:\n",
        "\n",
        "* We are using request python library to get the data from a github profile.\n",
        "* By writing a simple python code we can fetch the data using api request."
      ],
      "metadata": {
        "id": "1pZRi72Ndotn"
      }
    },
    {
      "cell_type": "code",
      "source": [],
      "metadata": {
        "id": "xd7A_yNCeAxk"
      },
      "execution_count": null,
      "outputs": []
    }
  ]
}